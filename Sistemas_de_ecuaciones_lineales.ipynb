{
  "nbformat": 4,
  "nbformat_minor": 0,
  "metadata": {
    "colab": {
      "provenance": [],
      "collapsed_sections": [
        "B5I5pM-5q_p0",
        "flC6UjaDrFj5"
      ],
      "toc_visible": true,
      "include_colab_link": true
    },
    "kernelspec": {
      "name": "python3",
      "display_name": "Python 3"
    },
    "language_info": {
      "name": "python"
    }
  },
  "cells": [
    {
      "cell_type": "markdown",
      "metadata": {
        "id": "view-in-github",
        "colab_type": "text"
      },
      "source": [
        "<a href=\"https://colab.research.google.com/github/marianagg0412/APIsWithTS/blob/main/Sistemas_de_ecuaciones_lineales.ipynb\" target=\"_parent\"><img src=\"https://colab.research.google.com/assets/colab-badge.svg\" alt=\"Open In Colab\"/></a>"
      ]
    },
    {
      "cell_type": "markdown",
      "source": [
        "# **Sistemas de Ecuaciones Lineales**"
      ],
      "metadata": {
        "id": "oeVF8EvzfaOv"
      }
    },
    {
      "cell_type": "code",
      "execution_count": 1,
      "metadata": {
        "id": "uUVyZXy6fZEW"
      },
      "outputs": [],
      "source": [
        "import numpy as np\n",
        "eps=np.finfo(float).eps #Esto es para encontrar el épsilon de la máquina"
      ]
    },
    {
      "cell_type": "code",
      "source": [
        "def DLU(A):\n",
        "  filas = len(A)\n",
        "  columnas = len(A[0]) #A una matriz rectangular la puedo descomponer de la forma D,L,U\n",
        "\n",
        "  # Crea tres matrices llenas de ceros\n",
        "  D = np.zeros((filas,columnas))\n",
        "  L = np.zeros((filas,columnas))\n",
        "  U = np.zeros((filas,columnas))\n",
        "\n",
        "  # Copia cada elemento ij en la matriz correspondiente D,L,U\n",
        "  for i in range(filas):\n",
        "    for j in range(columnas):\n",
        "      if i==j:\n",
        "        D[i][j] = A[i][j]\n",
        "      if i<j:\n",
        "        U[i][j] = -1*A[i][j]\n",
        "      if i>j:\n",
        "        L[i][j] = -1*A[i][j]\n",
        "  return(D,L,U)"
      ],
      "metadata": {
        "id": "TTpQGX2lfrxz"
      },
      "execution_count": 2,
      "outputs": []
    },
    {
      "cell_type": "code",
      "source": [
        "def matriz_A():\n",
        "  A = np.array([[2,3,4,5],[3,6,2,5],[4,3,-10,5],[1,1,0,3]])\n",
        "  return A"
      ],
      "metadata": {
        "id": "keJwx9ClSWWB"
      },
      "execution_count": 9,
      "outputs": []
    },
    {
      "cell_type": "code",
      "source": [
        "A = matriz_A()"
      ],
      "metadata": {
        "id": "wlxFveULTFfh"
      },
      "execution_count": 11,
      "outputs": []
    },
    {
      "cell_type": "code",
      "source": [
        "DLU(A)"
      ],
      "metadata": {
        "colab": {
          "base_uri": "https://localhost:8080/"
        },
        "id": "EpYOOXKGTkLE",
        "outputId": "43628a2b-3f08-4a23-e258-8ec97112efe8"
      },
      "execution_count": 12,
      "outputs": [
        {
          "output_type": "execute_result",
          "data": {
            "text/plain": [
              "(array([[  2.,   0.,   0.,   0.],\n",
              "        [  0.,   6.,   0.,   0.],\n",
              "        [  0.,   0., -10.,   0.],\n",
              "        [  0.,   0.,   0.,   3.]]),\n",
              " array([[ 0.,  0.,  0.,  0.],\n",
              "        [-3.,  0.,  0.,  0.],\n",
              "        [-4., -3.,  0.,  0.],\n",
              "        [-1., -1.,  0.,  0.]]),\n",
              " array([[ 0., -3., -4., -5.],\n",
              "        [ 0.,  0., -2., -5.],\n",
              "        [ 0.,  0.,  0., -5.],\n",
              "        [ 0.,  0.,  0.,  0.]]))"
            ]
          },
          "metadata": {},
          "execution_count": 12
        }
      ]
    },
    {
      "cell_type": "code",
      "source": [
        "def vector_inicial():\n",
        "  x0 = np.zeros((4,1))\n",
        "  return x0"
      ],
      "metadata": {
        "id": "z3Ouuim0T-ox"
      },
      "execution_count": 13,
      "outputs": []
    },
    {
      "cell_type": "code",
      "source": [
        "vector_inicial()"
      ],
      "metadata": {
        "id": "vbM8zGJnUbZP"
      },
      "execution_count": null,
      "outputs": []
    },
    {
      "cell_type": "code",
      "source": [
        "def vector_b():\n",
        "  b = np.array([[-1],[-2],[1],[0]])\n",
        "  return b"
      ],
      "metadata": {
        "id": "ATT9rbzrUj-V"
      },
      "execution_count": 14,
      "outputs": []
    },
    {
      "cell_type": "code",
      "source": [
        "vector_b()"
      ],
      "metadata": {
        "id": "6of5egWgU0vp"
      },
      "execution_count": null,
      "outputs": []
    },
    {
      "cell_type": "markdown",
      "source": [
        "# Función del radio espectral\n"
      ],
      "metadata": {
        "id": "NnulTYbrhWKc"
      }
    },
    {
      "cell_type": "code",
      "source": [
        "def radio_espectral(w):\n",
        "  A = matriz_A()\n",
        "  B = DLU(A)\n",
        "  D = B[0]\n",
        "  L = B[1]\n",
        "  U = B[2]\n",
        "\n",
        "  #T = np.linalg.inv(D)@(L+U) #Matriz Jacobi\n",
        "  #T = np.linalg.inv(D - L)@(U) #Matriz Gauss-Seidel\n",
        "  T =  np.linalg.inv(D - w*L)@((1-w)*D + w*U) #Matriz SOR\n",
        "  v = np.linalg.eigvals(T)\n",
        "  n = len(v)\n",
        "\n",
        "  norma = np.array([ ])\n",
        "\n",
        "  for i in range(n):\n",
        "    norma_valor_propio = np.linalg.norm([v[i]])\n",
        "    norma = np.append(norma, norma_valor_propio)\n",
        "\n",
        "  radioEspectral = np.max(norma)\n",
        "  return radioEspectral\n"
      ],
      "metadata": {
        "id": "uzBWSmSkhVv2"
      },
      "execution_count": 17,
      "outputs": []
    },
    {
      "cell_type": "code",
      "source": [
        "def min_w():\n",
        "    limit = 2  # Upper limit for w, you can adjust this as needed\n",
        "    step = 0.01  # Step size for w\n",
        "    finVal = float('inf')  # Initialize with positive infinity\n",
        "    finW = None\n",
        "\n",
        "    for w in [i * step for i in range(1, int(limit/step))]:  # Iterate over the range of w\n",
        "        # Calculate the spectral radius for the SOR method using w\n",
        "        spectral_radius = radio_espectral(w)  # You need to define this function\n",
        "        if(spectral_radius < finVal):\n",
        "          finVal = spectral_radius\n",
        "          finW = w\n",
        "\n",
        "    return finVal, finW  # Return the smallest spectral radius found\n",
        "\n",
        "finVal, finW = min_w()\n",
        "print(\"Radio espectral: \", finVal)\n",
        "print(\"W mas optimo: \", finW)"
      ],
      "metadata": {
        "id": "L-aq-RygreFL",
        "colab": {
          "base_uri": "https://localhost:8080/"
        },
        "outputId": "416d48e9-6bad-42f9-a546-dc4f3ba5ab0a"
      },
      "execution_count": 37,
      "outputs": [
        {
          "output_type": "stream",
          "name": "stdout",
          "text": [
            "Radio espectral:  0.5470998937796798\n",
            "W mas optimo:  1.24\n"
          ]
        }
      ]
    },
    {
      "cell_type": "markdown",
      "source": [
        "##Ejemplo"
      ],
      "metadata": {
        "id": "fb1KmmSnrLiW"
      }
    },
    {
      "cell_type": "code",
      "source": [
        "radio_espectral(0) #Was evaluated with Jacobi, w nonexistent"
      ],
      "metadata": {
        "id": "6j7z1klElIzt"
      },
      "execution_count": null,
      "outputs": []
    },
    {
      "cell_type": "markdown",
      "source": [
        "# Jacobi"
      ],
      "metadata": {
        "id": "1MuakayKlA2F"
      }
    },
    {
      "cell_type": "code",
      "source": [
        "def jacobi(tolerancia, delta, Nmax): #Nmax will be 1000\n",
        "  i = 0\n",
        "  d = delta + 1\n",
        "  error = tolerancia + 1\n",
        "\n",
        "  A = matriz_A()\n",
        "  b = vector_b()\n",
        "  x0 = vector_inicial()\n",
        "  B = DLU(A) #Evaluating coeficient matrix\n",
        "  D = B[0]\n",
        "  L = B[1]\n",
        "  U = B[2]\n",
        "  T = np.linalg.inv(D)@(L+U) #Jacobi method matrix\n",
        "  C = np.linalg.inv(D)@(b) #Jacobi method vector\n",
        "\n",
        "  while (error > tolerancia) and (delta < d) and (Nmax > i):\n",
        "    i+=1\n",
        "    print(\"Contador: \", i)\n",
        "    x = T@x0 + C\n",
        "    print(\"X \", x)\n",
        "    d = np.linalg.norm(A@x - b)\n",
        "    print(\"Delta: \", d)\n",
        "    error = np.linalg.norm(x-x0)\n",
        "    #error = np.linalg.norm(x-x0)/np.linalg.norm(x)\n",
        "    print(\"Error: \", error) #Generally the error and the delta will not be the same.\n",
        "    x0 = x\n",
        "    print(\"-------------------------------------\")"
      ],
      "metadata": {
        "id": "T-mgF2FKYx8-"
      },
      "execution_count": null,
      "outputs": []
    },
    {
      "cell_type": "markdown",
      "source": [
        "##Ejemplo"
      ],
      "metadata": {
        "id": "B5I5pM-5q_p0"
      }
    },
    {
      "cell_type": "code",
      "source": [
        "jacobi(eps,eps,1000)"
      ],
      "metadata": {
        "id": "Lkkrltobd1K8"
      },
      "execution_count": null,
      "outputs": []
    },
    {
      "cell_type": "markdown",
      "source": [
        "# Gauss Seidel"
      ],
      "metadata": {
        "id": "43sIfX8AlEA_"
      }
    },
    {
      "cell_type": "code",
      "source": [
        "def gauss(tolerancia, delta, Nmax): #Nmax will be 1000 , Gauss-Seidel\n",
        "  i = 0\n",
        "  d = delta + 1\n",
        "  error = tolerancia + 1\n",
        "\n",
        "  A = matriz_A()\n",
        "  b = vector_b()\n",
        "  x0 = vector_inicial()\n",
        "  B = DLU(A) #Evaluating coeficient matrix\n",
        "  D = B[0]\n",
        "  L = B[1]\n",
        "  U = B[2]\n",
        "  T = np.linalg.inv(D-L)@(U) #Gauss-Seidel method matrix\n",
        "  C = np.linalg.inv(D-L)@(b) #Gauss-Seidel method vector\n",
        "\n",
        "  while (error > tolerancia) and (delta < d) and (Nmax > i):\n",
        "    i+=1\n",
        "    print(\"Contador: \", i)\n",
        "    x = T@x0 + C\n",
        "    print(\"X \", x)\n",
        "    d = np.linalg.norm(A@x - b)\n",
        "    print(\"Delta: \", d)\n",
        "    error = np.linalg.norm(x-x0)\n",
        "    #error = np.linalg.norm(x-x0)/np.linalg.norm(x)\n",
        "    print(\"Error: \", error) #Generally the error and the delta will not be the same.\n",
        "    x0 = x\n",
        "    print(\"-------------------------------------\")"
      ],
      "metadata": {
        "id": "2xr9C1Z9JS9k"
      },
      "execution_count": null,
      "outputs": []
    },
    {
      "cell_type": "markdown",
      "source": [
        "##Ejemplo"
      ],
      "metadata": {
        "id": "flC6UjaDrFj5"
      }
    },
    {
      "cell_type": "code",
      "source": [
        "gauss(eps,eps,1000)"
      ],
      "metadata": {
        "id": "x_yysuK1Jwjg"
      },
      "execution_count": null,
      "outputs": []
    },
    {
      "cell_type": "markdown",
      "source": [
        "# Método de SOR"
      ],
      "metadata": {
        "id": "UXge3goLpKvW"
      }
    },
    {
      "cell_type": "code",
      "source": [
        "def SOR(tolerancia, delta, Nmax, w): #Nmax will be 1000 , Gauss-Seidel\n",
        "  i = 0\n",
        "  d = delta + 1\n",
        "  error = tolerancia + 1\n",
        "\n",
        "  A = matriz_A()\n",
        "  b = vector_b()\n",
        "  x0 = vector_inicial()\n",
        "  B = DLU(A) #Evaluating coeficient matrix\n",
        "  D = B[0]\n",
        "  L = B[1]\n",
        "  U = B[2]\n",
        "  T = np.linalg.inv(D-w*L)@((1-w)*D + w*U) #SOR method matrix\n",
        "  C = w*np.linalg.inv(D-w*L)@(b) #SOR method vector\n",
        "\n",
        "  while (error > tolerancia) and (delta < d) and (Nmax > i):\n",
        "    i+=1\n",
        "    print(\"Contador: \", i)\n",
        "    x = T@x0 + C\n",
        "    print(\"X \", x)\n",
        "    d = np.linalg.norm(A@x - b)\n",
        "    print(\"Delta: \", d)\n",
        "    error = np.linalg.norm(x-x0) #Abolute\n",
        "    #error = np.linalg.norm(x-x0)/np.linalg.norm(x) #Relative\n",
        "    print(\"Error: \", error) #Generally the error and the delta will not be the same.\n",
        "    x0 = x\n",
        "    print(\"-------------------------------------\")"
      ],
      "metadata": {
        "id": "ihZBvuqspM6r"
      },
      "execution_count": 6,
      "outputs": []
    },
    {
      "cell_type": "markdown",
      "source": [
        "##Ejemplo"
      ],
      "metadata": {
        "id": "onioQ1gRqk43"
      }
    },
    {
      "cell_type": "code",
      "source": [
        "radio_espectral(1.2) #Sacamos el w evaluando de a 0.1 -0.9 y 1.1-1.9"
      ],
      "metadata": {
        "colab": {
          "base_uri": "https://localhost:8080/"
        },
        "id": "THWUhw4tqdhl",
        "outputId": "9121bbe8-86f0-4dc2-be7d-3f96262067d5"
      },
      "execution_count": 19,
      "outputs": [
        {
          "output_type": "execute_result",
          "data": {
            "text/plain": [
              "0.5963646867380821"
            ]
          },
          "metadata": {},
          "execution_count": 19
        }
      ]
    },
    {
      "cell_type": "code",
      "source": [
        "result = min_w\n",
        "print(result)"
      ],
      "metadata": {
        "colab": {
          "base_uri": "https://localhost:8080/"
        },
        "id": "ijtEWY8MuA39",
        "outputId": "fd0bfe5b-959a-4d6e-930c-a94a1f3ac0a0"
      },
      "execution_count": 23,
      "outputs": [
        {
          "output_type": "stream",
          "name": "stdout",
          "text": [
            "<function min_w at 0x7d4ed1443ac0>\n"
          ]
        }
      ]
    },
    {
      "cell_type": "code",
      "source": [
        "SOR(eps,eps,1000,1.2)"
      ],
      "metadata": {
        "colab": {
          "base_uri": "https://localhost:8080/"
        },
        "id": "MXZtcFd5sSe1",
        "outputId": "765869a4-be94-46c4-d4bd-32f2f4da53b0"
      },
      "execution_count": 15,
      "outputs": [
        {
          "output_type": "stream",
          "name": "stdout",
          "text": [
            "Contador:  1\n",
            "X  [[-0.6   ]\n",
            " [-0.04  ]\n",
            " [-0.4224]\n",
            " [ 0.256 ]]\n",
            "Delta:  2.1543303367868165\n",
            "Error:  0.7781759184143389\n",
            "-------------------------------------\n",
            "Contador:  2\n",
            "X  [[-0.16224   ]\n",
            " [-0.381696  ]\n",
            " [-0.09720576]\n",
            " [ 0.1663744 ]]\n",
            "Delta:  1.0012433054870296\n",
            "Error:  0.6497491946286178\n",
            "-------------------------------------\n",
            "Contador:  3\n",
            "X  [[-0.14632858]\n",
            " [-0.36335575]\n",
            " [-0.20177999]\n",
            " [ 0.17059885]]\n",
            "Delta:  0.42479630359804754\n",
            "Error:  0.1074390743576441\n",
            "-------------------------------------\n",
            "Contador:  4\n",
            "X  [[ 0.0557815 ]\n",
            " [-0.4506846 ]\n",
            " [-0.11275603]\n",
            " [ 0.12384147]]\n",
            "Delta:  0.41507800343353096\n",
            "Error:  0.24204613455830346\n",
            "-------------------------------------\n",
            "Contador:  5\n",
            "X  [[ 0.09916604]\n",
            " [-0.44810176]\n",
            " [-0.13686085]\n",
            " [ 0.114806  ]]\n",
            "Delta:  0.15014660026081095\n",
            "Error:  0.050513081380377946\n",
            "-------------------------------------\n",
            "Contador:  6\n",
            "X  [[ 0.17079801]\n",
            " [-0.47292011]\n",
            " [-0.11201243]\n",
            " [ 0.09788764]]\n",
            "Delta:  0.1442033528563748\n",
            "Error:  0.08155222272013574\n",
            "-------------------------------------\n",
            "Contador:  7\n",
            "X  [[ 0.1922635 ]\n",
            " [-0.47385675]\n",
            " [-0.11716688]\n",
            " [ 0.09305977]]\n",
            "Delta:  0.055971405906779306\n",
            "Error:  0.022616834424069046\n",
            "-------------------------------------\n",
            "Contador:  8\n",
            "X  [[ 0.21651065]\n",
            " [-0.48132806]\n",
            " [-0.11008375]\n",
            " [ 0.08731501]]\n",
            "Delta:  0.04850653134319374\n",
            "Error:  0.026961403503093458\n",
            "-------------------------------------\n",
            "Contador:  9\n",
            "X  [[ 0.22534435]\n",
            " [-0.48222251]\n",
            " [-0.11102906]\n",
            " [ 0.08528826]]\n",
            "Delta:  0.02067826888540053\n",
            "Error:  0.009156181003741326\n",
            "-------------------------------------\n",
            "Contador:  10\n",
            "X  [[ 0.2335366 ]\n",
            " [-0.4845541 ]\n",
            " [-0.10896314]\n",
            " [ 0.08334935]]\n",
            "Delta:  0.01637966297535421\n",
            "Error:  0.00897645314191851\n",
            "-------------------------------------\n",
            "Contador:  11\n",
            "X  [[ 0.23695355]\n",
            " [-0.4850254 ]\n",
            " [-0.10906921]\n",
            " [ 0.08255887]]\n",
            "Delta:  0.007585457431047299\n",
            "Error:  0.0035403040067527604\n",
            "-------------------------------------\n",
            "Contador:  12\n",
            "X  [[ 0.23974449]\n",
            " [-0.4857728 ]\n",
            " [-0.10845169]\n",
            " [ 0.08189955]]\n",
            "Delta:  0.005593250245750155\n",
            "Error:  0.003027210359974698\n",
            "-------------------------------------\n",
            "Contador:  13\n",
            "X  [[ 0.24102755]\n",
            " [-0.48598084]\n",
            " [-0.10842981]\n",
            " [ 0.08160141]]\n",
            "Delta:  0.0027662964488725907\n",
            "Error:  0.0013337524808643157\n",
            "-------------------------------------\n",
            "Contador:  14\n",
            "X  [[ 0.24198733]\n",
            " [-0.48622571]\n",
            " [-0.10824053]\n",
            " [ 0.08137507]]\n",
            "Delta:  0.001930273762101467\n",
            "Error:  0.0010335399017647017\n",
            "-------------------------------------\n",
            "Contador:  15\n",
            "X  [[ 0.24246088]\n",
            " [-0.48631024]\n",
            " [-0.10821732]\n",
            " [ 0.08126473]]\n",
            "Delta:  0.0010035050696408318\n",
            "Error:  0.0004940688195789932\n",
            "-------------------------------------\n",
            "Contador:  16\n",
            "X  [[ 0.24279363]\n",
            " [-0.48639193]\n",
            " [-0.10815785]\n",
            " [ 0.08118638]]\n",
            "Delta:  0.0006717068383803795\n",
            "Error:  0.0003564704044627642\n",
            "-------------------------------------\n",
            "Contador:  17\n",
            "X  [[ 0.24296647]\n",
            " [-0.48642473]\n",
            " [-0.1081456 ]\n",
            " [ 0.08114603]]\n",
            "Delta:  0.0003623781228476547\n",
            "Error:  0.00018090995489302193\n",
            "-------------------------------------\n",
            "Contador:  18\n",
            "X  [[ 0.24308258]\n",
            " [-0.48645239]\n",
            " [-0.10812648]\n",
            " [ 0.08111872]]\n",
            "Delta:  0.00023517896498120533\n",
            "Error:  0.00012392311344322594\n",
            "-------------------------------------\n",
            "Contador:  19\n",
            "X  [[ 0.24314519]\n",
            " [-0.48646476]\n",
            " [-0.10812109]\n",
            " [ 0.08110408]]\n",
            "Delta:  0.000130373677021009\n",
            "Error:  6.57031815069557e-05\n",
            "-------------------------------------\n",
            "Contador:  20\n",
            "X  [[ 0.24318591]\n",
            " [-0.48647424]\n",
            " [-0.10811482]\n",
            " [ 0.08109452]]\n",
            "Delta:  8.270515188263321e-05\n",
            "Error:  4.333905586605306e-05\n",
            "-------------------------------------\n",
            "Contador:  21\n",
            "X  [[ 0.24320847]\n",
            " [-0.48647882]\n",
            " [-0.10811264]\n",
            " [ 0.08108924]]\n",
            "Delta:  4.67682566792347e-05\n",
            "Error:  2.3723476613685425e-05\n",
            "-------------------------------------\n",
            "Contador:  22\n",
            "X  [[ 0.2432228 ]\n",
            " [-0.4864821 ]\n",
            " [-0.10811054]\n",
            " [ 0.08108587]]\n",
            "Delta:  2.9176816150781323e-05\n",
            "Error:  1.5224567701158088e-05\n",
            "-------------------------------------\n",
            "Contador:  23\n",
            "X  [[ 0.2432309 ]\n",
            " [-0.48648378]\n",
            " [-0.1081097 ]\n",
            " [ 0.08108398]]\n",
            "Delta:  1.6739549411141677e-05\n",
            "Error:  8.530090150533763e-06\n",
            "-------------------------------------\n",
            "Contador:  24\n",
            "X  [[ 0.24323596]\n",
            " [-0.48648492]\n",
            " [-0.10810899]\n",
            " [ 0.08108279]]\n",
            "Delta:  1.0316318042816998e-05\n",
            "Error:  5.365924170505476e-06\n",
            "-------------------------------------\n",
            "Contador:  25\n",
            "X  [[ 0.24323886]\n",
            " [-0.48648553]\n",
            " [-0.10810867]\n",
            " [ 0.08108211]]\n",
            "Delta:  5.981465608861904e-06\n",
            "Error:  3.0578792549704e-06\n",
            "-------------------------------------\n",
            "Contador:  26\n",
            "X  [[ 0.24324065]\n",
            " [-0.48648593]\n",
            " [-0.10810842]\n",
            " [ 0.08108169]]\n",
            "Delta:  3.653554258726443e-06\n",
            "Error:  1.895830626058423e-06\n",
            "-------------------------------------\n",
            "Contador:  27\n",
            "X  [[ 0.24324169]\n",
            " [-0.48648615]\n",
            " [-0.10810831]\n",
            " [ 0.08108145]]\n",
            "Delta:  2.134661515236571e-06\n",
            "Error:  1.0938098697843929e-06\n",
            "-------------------------------------\n",
            "Contador:  28\n",
            "X  [[ 0.24324232]\n",
            " [-0.48648629]\n",
            " [-0.10810822]\n",
            " [ 0.0810813 ]]\n",
            "Delta:  1.2954264498475948e-06\n",
            "Error:  6.710095974152447e-07\n",
            "-------------------------------------\n",
            "Contador:  29\n",
            "X  [[ 0.24324269]\n",
            " [-0.48648637]\n",
            " [-0.10810818]\n",
            " [ 0.08108121]]\n",
            "Delta:  7.611135839950911e-07\n",
            "Error:  3.906422658804265e-07\n",
            "-------------------------------------\n",
            "Contador:  30\n",
            "X  [[ 0.24324291]\n",
            " [-0.48648642]\n",
            " [-0.10810815]\n",
            " [ 0.08108116]]\n",
            "Delta:  4.5970062775985967e-07\n",
            "Error:  2.378069451896181e-07\n",
            "-------------------------------------\n",
            "Contador:  31\n",
            "X  [[ 0.24324305]\n",
            " [-0.48648644]\n",
            " [-0.10810813]\n",
            " [ 0.08108113]]\n",
            "Delta:  2.7119078373644413e-07\n",
            "Error:  1.3935441905628796e-07\n",
            "-------------------------------------\n",
            "Contador:  32\n",
            "X  [[ 0.24324313]\n",
            " [-0.48648646]\n",
            " [-0.10810812]\n",
            " [ 0.08108111]]\n",
            "Delta:  1.6323050242854733e-07\n",
            "Error:  8.435957168666371e-08\n",
            "-------------------------------------\n",
            "Contador:  33\n",
            "X  [[ 0.24324317]\n",
            " [-0.48648647]\n",
            " [-0.10810812]\n",
            " [ 0.0810811 ]]\n",
            "Delta:  9.657929388365472e-08\n",
            "Error:  4.9670945692721055e-08\n",
            "-------------------------------------\n",
            "Contador:  34\n",
            "X  [[ 0.2432432 ]\n",
            " [-0.48648648]\n",
            " [-0.10810811]\n",
            " [ 0.08108109]]\n",
            "Delta:  5.7985389053928187e-08\n",
            "Error:  2.9946523262418285e-08\n",
            "-------------------------------------\n",
            "Contador:  35\n",
            "X  [[ 0.24324322]\n",
            " [-0.48648648]\n",
            " [-0.10810811]\n",
            " [ 0.08108109]]\n",
            "Delta:  3.438228982526147e-08\n",
            "Error:  1.7693868261545914e-08\n",
            "-------------------------------------\n",
            "Contador:  36\n",
            "X  [[ 0.24324323]\n",
            " [-0.48648648]\n",
            " [-0.10810811]\n",
            " [ 0.08108108]]\n",
            "Delta:  2.0605081738771957e-08\n",
            "Error:  1.0636012819652236e-08\n",
            "-------------------------------------\n",
            "Contador:  37\n",
            "X  [[ 0.24324323]\n",
            " [-0.48648648]\n",
            " [-0.10810811]\n",
            " [ 0.08108108]]\n",
            "Delta:  1.2236857336916035e-08\n",
            "Error:  6.300184407612744e-09\n",
            "-------------------------------------\n",
            "Contador:  38\n",
            "X  [[ 0.24324324]\n",
            " [-0.48648649]\n",
            " [-0.10810811]\n",
            " [ 0.08108108]]\n",
            "Delta:  7.323700004272035e-09\n",
            "Error:  3.7789574461619266e-09\n",
            "-------------------------------------\n",
            "Contador:  39\n",
            "X  [[ 0.24324324]\n",
            " [-0.48648649]\n",
            " [-0.10810811]\n",
            " [ 0.08108108]]\n",
            "Delta:  4.354322705322384e-09\n",
            "Error:  2.242568115729753e-09\n",
            "-------------------------------------\n",
            "Contador:  40\n",
            "X  [[ 0.24324324]\n",
            " [-0.48648649]\n",
            " [-0.10810811]\n",
            " [ 0.08108108]]\n",
            "Delta:  2.603513775738256e-09\n",
            "Error:  1.3430190167230324e-09\n",
            "-------------------------------------\n",
            "Contador:  41\n",
            "X  [[ 0.24324324]\n",
            " [-0.48648649]\n",
            " [-0.10810811]\n",
            " [ 0.08108108]]\n",
            "Delta:  1.549207096309634e-09\n",
            "Error:  7.980638765757943e-10\n",
            "-------------------------------------\n",
            "Contador:  42\n",
            "X  [[ 0.24324324]\n",
            " [-0.48648649]\n",
            " [-0.10810811]\n",
            " [ 0.08108108]]\n",
            "Delta:  9.256407600354607e-10\n",
            "Error:  4.773949536517892e-10\n",
            "-------------------------------------\n",
            "Contador:  43\n",
            "X  [[ 0.24324324]\n",
            " [-0.48648649]\n",
            " [-0.10810811]\n",
            " [ 0.08108108]]\n",
            "Delta:  5.511296045688503e-10\n",
            "Error:  2.839595061910657e-10\n",
            "-------------------------------------\n",
            "Contador:  44\n",
            "X  [[ 0.24324324]\n",
            " [-0.48648649]\n",
            " [-0.10810811]\n",
            " [ 0.08108108]]\n",
            "Delta:  3.291273005506542e-10\n",
            "Error:  1.6972094005167677e-10\n",
            "-------------------------------------\n",
            "Contador:  45\n",
            "X  [[ 0.24324324]\n",
            " [-0.48648649]\n",
            " [-0.10810811]\n",
            " [ 0.08108108]]\n",
            "Delta:  1.9604988409872798e-10\n",
            "Error:  1.0102334570461364e-10\n",
            "-------------------------------------\n",
            "Contador:  46\n",
            "X  [[ 0.24324324]\n",
            " [-0.48648649]\n",
            " [-0.10810811]\n",
            " [ 0.08108108]]\n",
            "Delta:  1.1703495822667136e-10\n",
            "Error:  6.034469322713743e-11\n",
            "-------------------------------------\n",
            "Contador:  47\n",
            "X  [[ 0.24324324]\n",
            " [-0.48648649]\n",
            " [-0.10810811]\n",
            " [ 0.08108108]]\n",
            "Delta:  6.973583570509721e-11\n",
            "Error:  3.593744662518314e-11\n",
            "-------------------------------------\n",
            "Contador:  48\n",
            "X  [[ 0.24324324]\n",
            " [-0.48648649]\n",
            " [-0.10810811]\n",
            " [ 0.08108108]]\n",
            "Delta:  4.161826045300095e-11\n",
            "Error:  2.1457443641893525e-11\n",
            "-------------------------------------\n",
            "Contador:  49\n",
            "X  [[ 0.24324324]\n",
            " [-0.48648649]\n",
            " [-0.10810811]\n",
            " [ 0.08108108]]\n",
            "Delta:  2.480368870582654e-11\n",
            "Error:  1.2783450633122363e-11\n",
            "-------------------------------------\n",
            "Contador:  50\n",
            "X  [[ 0.24324324]\n",
            " [-0.48648649]\n",
            " [-0.10810811]\n",
            " [ 0.08108108]]\n",
            "Delta:  1.4800275726331677e-11\n",
            "Error:  7.629970210025535e-12\n",
            "-------------------------------------\n",
            "Contador:  51\n",
            "X  [[ 0.24324324]\n",
            " [-0.48648649]\n",
            " [-0.10810811]\n",
            " [ 0.08108108]]\n",
            "Delta:  8.822873712943525e-12\n",
            "Error:  4.547193834125741e-12\n",
            "-------------------------------------\n",
            "Contador:  52\n",
            "X  [[ 0.24324324]\n",
            " [-0.48648649]\n",
            " [-0.10810811]\n",
            " [ 0.08108108]]\n",
            "Delta:  5.263104640615615e-12\n",
            "Error:  2.713592835978401e-12\n",
            "-------------------------------------\n",
            "Contador:  53\n",
            "X  [[ 0.24324324]\n",
            " [-0.48648649]\n",
            " [-0.10810811]\n",
            " [ 0.08108108]]\n",
            "Delta:  3.138085489777724e-12\n",
            "Error:  1.617067672883058e-12\n",
            "-------------------------------------\n",
            "Contador:  54\n",
            "X  [[ 0.24324324]\n",
            " [-0.48648649]\n",
            " [-0.10810811]\n",
            " [ 0.08108108]]\n",
            "Delta:  1.8714751756297882e-12\n",
            "Error:  9.649299053705204e-13\n",
            "-------------------------------------\n",
            "Contador:  55\n",
            "X  [[ 0.24324324]\n",
            " [-0.48648649]\n",
            " [-0.10810811]\n",
            " [ 0.08108108]]\n",
            "Delta:  1.116055338719783e-12\n",
            "Error:  5.752125015297054e-13\n",
            "-------------------------------------\n",
            "Contador:  56\n",
            "X  [[ 0.24324324]\n",
            " [-0.48648649]\n",
            " [-0.10810811]\n",
            " [ 0.08108108]]\n",
            "Delta:  6.647850919830712e-13\n",
            "Error:  3.4330658638442025e-13\n",
            "-------------------------------------\n",
            "Contador:  57\n",
            "X  [[ 0.24324324]\n",
            " [-0.48648649]\n",
            " [-0.10810811]\n",
            " [ 0.08108108]]\n",
            "Delta:  3.9693987257663697e-13\n",
            "Error:  2.043381462041331e-13\n",
            "-------------------------------------\n",
            "Contador:  58\n",
            "X  [[ 0.24324324]\n",
            " [-0.48648649]\n",
            " [-0.10810811]\n",
            " [ 0.08108108]]\n",
            "Delta:  2.376265575839624e-13\n",
            "Error:  1.2196689600117661e-13\n",
            "-------------------------------------\n",
            "Contador:  59\n",
            "X  [[ 0.24324324]\n",
            " [-0.48648649]\n",
            " [-0.10810811]\n",
            " [ 0.08108108]]\n",
            "Delta:  1.4115525249358363e-13\n",
            "Error:  7.300155924903452e-14\n",
            "-------------------------------------\n",
            "Contador:  60\n",
            "X  [[ 0.24324324]\n",
            " [-0.48648649]\n",
            " [-0.10810811]\n",
            " [ 0.08108108]]\n",
            "Delta:  8.413602716073506e-14\n",
            "Error:  4.3423560351307374e-14\n",
            "-------------------------------------\n",
            "Contador:  61\n",
            "X  [[ 0.24324324]\n",
            " [-0.48648649]\n",
            " [-0.10810811]\n",
            " [ 0.08108108]]\n",
            "Delta:  4.962306494914267e-14\n",
            "Error:  2.581437149329215e-14\n",
            "-------------------------------------\n",
            "Contador:  62\n",
            "X  [[ 0.24324324]\n",
            " [-0.48648649]\n",
            " [-0.10810811]\n",
            " [ 0.08108108]]\n",
            "Delta:  3.0933660622709984e-14\n",
            "Error:  1.5398342091708773e-14\n",
            "-------------------------------------\n",
            "Contador:  63\n",
            "X  [[ 0.24324324]\n",
            " [-0.48648649]\n",
            " [-0.10810811]\n",
            " [ 0.08108108]]\n",
            "Delta:  1.9023101342590614e-14\n",
            "Error:  9.03626233783496e-15\n",
            "-------------------------------------\n",
            "Contador:  64\n",
            "X  [[ 0.24324324]\n",
            " [-0.48648649]\n",
            " [-0.10810811]\n",
            " [ 0.08108108]]\n",
            "Delta:  1.0412595841058263e-14\n",
            "Error:  5.489783433046264e-15\n",
            "-------------------------------------\n",
            "Contador:  65\n",
            "X  [[ 0.24324324]\n",
            " [-0.48648649]\n",
            " [-0.10810811]\n",
            " [ 0.08108108]]\n",
            "Delta:  7.133344928900206e-15\n",
            "Error:  3.1840375668723523e-15\n",
            "-------------------------------------\n",
            "Contador:  66\n",
            "X  [[ 0.24324324]\n",
            " [-0.48648649]\n",
            " [-0.10810811]\n",
            " [ 0.08108108]]\n",
            "Delta:  3.999211501054847e-15\n",
            "Error:  2.231693266599465e-15\n",
            "-------------------------------------\n",
            "Contador:  67\n",
            "X  [[ 0.24324324]\n",
            " [-0.48648649]\n",
            " [-0.10810811]\n",
            " [ 0.08108108]]\n",
            "Delta:  2.3921377574803994e-15\n",
            "Error:  1.0448048107080504e-15\n",
            "-------------------------------------\n",
            "Contador:  68\n",
            "X  [[ 0.24324324]\n",
            " [-0.48648649]\n",
            " [-0.10810811]\n",
            " [ 0.08108108]]\n",
            "Delta:  1.602148379482783e-15\n",
            "Error:  7.152111528976949e-16\n",
            "-------------------------------------\n",
            "Contador:  69\n",
            "X  [[ 0.24324324]\n",
            " [-0.48648649]\n",
            " [-0.10810811]\n",
            " [ 0.08108108]]\n",
            "Delta:  1.1105699151271772e-15\n",
            "Error:  4.685680459230494e-16\n",
            "-------------------------------------\n",
            "Contador:  70\n",
            "X  [[ 0.24324324]\n",
            " [-0.48648649]\n",
            " [-0.10810811]\n",
            " [ 0.08108108]]\n",
            "Delta:  1.5406219729261391e-15\n",
            "Error:  1.3597399555105182e-16\n",
            "-------------------------------------\n"
          ]
        }
      ]
    }
  ]
}